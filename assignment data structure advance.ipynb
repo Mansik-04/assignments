{
  "nbformat": 4,
  "nbformat_minor": 0,
  "metadata": {
    "colab": {
      "provenance": []
    },
    "kernelspec": {
      "name": "python3",
      "display_name": "Python 3"
    },
    "language_info": {
      "name": "python"
    }
  },
  "cells": [
    {
      "cell_type": "code",
      "execution_count": null,
      "metadata": {
        "colab": {
          "base_uri": "https://localhost:8080/",
          "height": 36
        },
        "id": "6DtNaPLpIU6A",
        "outputId": "179da5af-5489-413d-d679-4ccf083eeb2b"
      },
      "outputs": [
        {
          "output_type": "execute_result",
          "data": {
            "text/plain": [
              "'udnuk isnam'"
            ],
            "application/vnd.google.colaboratory.intrinsic+json": {
              "type": "string"
            }
          },
          "metadata": {},
          "execution_count": 7
        }
      ],
      "source": [
        "#1.write a code to reverse a string\n",
        "name=\"mansi kundu\"\n",
        "name[::-1]"
      ]
    },
    {
      "cell_type": "code",
      "source": [
        "#2.write a code to count number of vowels in a string\n",
        "name=\"MANSi KUNDu\"\n",
        "for i in name:\n",
        "  if (i=='a'or i=='e'or i=='i' or i=='o' or i=='u' or i=='A' or i=='E' or i=='I' or i=='O' or i=='U'):\n",
        "    print(i)"
      ],
      "metadata": {
        "colab": {
          "base_uri": "https://localhost:8080/"
        },
        "id": "FfLY2afQJR5F",
        "outputId": "e8a33fd9-fc80-416e-c527-cbb4a2099460"
      },
      "execution_count": null,
      "outputs": [
        {
          "output_type": "stream",
          "name": "stdout",
          "text": [
            "A\n",
            "i\n",
            "U\n",
            "u\n"
          ]
        }
      ]
    },
    {
      "cell_type": "code",
      "source": [
        "#3.Write a code to check if a given string is a palindrome or not\n",
        "string =input(\"enter the string:\")\n",
        "if string ==string[::-1]:\n",
        "  print(\"it is palindrome\")\n",
        "else:\n",
        "  print(\"not palindrome\")"
      ],
      "metadata": {
        "colab": {
          "base_uri": "https://localhost:8080/"
        },
        "id": "_TlfAPpAOWJ5",
        "outputId": "6e8d5681-0698-469f-fccd-984bb1bc22f2"
      },
      "execution_count": null,
      "outputs": [
        {
          "output_type": "stream",
          "name": "stdout",
          "text": [
            "enter the string:civic\n",
            "it is palindrome\n"
          ]
        }
      ]
    },
    {
      "cell_type": "code",
      "source": [
        "#4.Write a code to check if two given strings are anagrams of each other\n",
        "word1=input(\"enter the word:\")                   #anagram word(silent,listen:race,care)\n",
        "word2=input(\"enter the word:\")\n",
        "if(len(word1)==len(word2)):\n",
        "  word1==sorted(word1)\n",
        "  word2==sorted(word2)\n",
        "if(sorted(word1)==sorted(word2)):\n",
        "   print(\"words are anagram\")\n",
        "else:\n",
        "  print(\"not anagram\")"
      ],
      "metadata": {
        "colab": {
          "base_uri": "https://localhost:8080/"
        },
        "id": "Do1ClXxQPCF7",
        "outputId": "edcdc188-8f71-4774-cece-458c2e07e30a"
      },
      "execution_count": null,
      "outputs": [
        {
          "output_type": "stream",
          "name": "stdout",
          "text": [
            "enter the word:silent\n",
            "enter the word:listen\n",
            "words are anagram\n"
          ]
        }
      ]
    },
    {
      "cell_type": "code",
      "source": [
        "#5.Write a code to find all occurrences of a given substring within another string\n",
        "r = \"my name is mansi\"\n",
        "m = \"m\"\n",
        "s= [i for i in range(len(r)) if r.startswith(m, i)]\n",
        "print(s)"
      ],
      "metadata": {
        "id": "B7bztDn5RzsJ",
        "colab": {
          "base_uri": "https://localhost:8080/"
        },
        "outputId": "37098385-ffb6-4b86-e8a4-0be6e208c490"
      },
      "execution_count": null,
      "outputs": [
        {
          "output_type": "stream",
          "name": "stdout",
          "text": [
            "[0, 5, 11]\n"
          ]
        }
      ]
    },
    {
      "cell_type": "code",
      "source": [
        "#6.Write a code to perform basic string compression using the counts of repeated characters\n"
      ],
      "metadata": {
        "id": "CwpyK5vlB4Ul"
      },
      "execution_count": null,
      "outputs": []
    },
    {
      "cell_type": "code",
      "source": [
        "#7.Write a code to determine if a string has all unique characters\n",
        "st = \"abc\"\n",
        "a=\"\"\n",
        "for i in st:\n",
        "    if i not in a:\n",
        "        a+=i\n",
        "if(a==st):\n",
        "    print(True)\n",
        "else:\n",
        "    print(False)"
      ],
      "metadata": {
        "colab": {
          "base_uri": "https://localhost:8080/"
        },
        "id": "n-8MQlTr__pC",
        "outputId": "f20660f1-6db2-4c47-d767-5c7e139b46bd"
      },
      "execution_count": null,
      "outputs": [
        {
          "output_type": "stream",
          "name": "stdout",
          "text": [
            "True\n"
          ]
        }
      ]
    },
    {
      "cell_type": "code",
      "source": [
        "#8. Write a code to convert a given string to uppercase or lowercase\n",
        "s=\"mansi\"\n",
        "s.upper()"
      ],
      "metadata": {
        "colab": {
          "base_uri": "https://localhost:8080/",
          "height": 36
        },
        "id": "z4USpudHe5-5",
        "outputId": "ece57d37-6a22-4aca-c64c-9f4e84a0d7bf"
      },
      "execution_count": null,
      "outputs": [
        {
          "output_type": "execute_result",
          "data": {
            "text/plain": [
              "'MANSI'"
            ],
            "application/vnd.google.colaboratory.intrinsic+json": {
              "type": "string"
            }
          },
          "metadata": {},
          "execution_count": 5
        }
      ]
    },
    {
      "cell_type": "code",
      "source": [
        "d=\"DATA SCIENCE\"\n",
        "d.lower()"
      ],
      "metadata": {
        "colab": {
          "base_uri": "https://localhost:8080/",
          "height": 36
        },
        "id": "2Nz0zxnahaU6",
        "outputId": "9094dc0e-367b-4037-c021-9b1b58a620a9"
      },
      "execution_count": null,
      "outputs": [
        {
          "output_type": "execute_result",
          "data": {
            "text/plain": [
              "'data science'"
            ],
            "application/vnd.google.colaboratory.intrinsic+json": {
              "type": "string"
            }
          },
          "metadata": {},
          "execution_count": 6
        }
      ]
    },
    {
      "cell_type": "code",
      "source": [
        "#9. Write a code to count the number of words in a string\n",
        "s=\"my name is mansi\"\n",
        "d=len(s.split())\n",
        "print(\"number of words\",d)"
      ],
      "metadata": {
        "colab": {
          "base_uri": "https://localhost:8080/"
        },
        "id": "QbVMvHHsjoYG",
        "outputId": "fd49f15d-d922-4b43-f430-46d417aa9eaa"
      },
      "execution_count": null,
      "outputs": [
        {
          "output_type": "stream",
          "name": "stdout",
          "text": [
            "number of words 4\n"
          ]
        }
      ]
    },
    {
      "cell_type": "code",
      "source": [
        "#10.Write a code to concatenate two strings without using the + operator\n",
        "name=\"Mansi Kundu\"\n",
        "age = 20\n",
        "f\"my name is {name} and my age is {age} years\""
      ],
      "metadata": {
        "colab": {
          "base_uri": "https://localhost:8080/",
          "height": 36
        },
        "id": "Kdswo3E6k-e_",
        "outputId": "ba0c71ea-e6e9-4ad1-aa51-551eaf4fd63a"
      },
      "execution_count": null,
      "outputs": [
        {
          "output_type": "execute_result",
          "data": {
            "text/plain": [
              "'my name is Mansi Kundu and my age is 20 years'"
            ],
            "application/vnd.google.colaboratory.intrinsic+json": {
              "type": "string"
            }
          },
          "metadata": {},
          "execution_count": 17
        }
      ]
    },
    {
      "cell_type": "code",
      "source": [
        "a=\"mansi\"\n",
        "b=\"kundu\"\n",
        "print(a,b)"
      ],
      "metadata": {
        "colab": {
          "base_uri": "https://localhost:8080/"
        },
        "id": "jzXxI2ntmILC",
        "outputId": "4fc388d7-8475-479c-a594-00b8d634c398"
      },
      "execution_count": null,
      "outputs": [
        {
          "output_type": "stream",
          "name": "stdout",
          "text": [
            "mansi kundu\n"
          ]
        }
      ]
    },
    {
      "cell_type": "code",
      "source": [
        "#11.Write a code to remove all occurrences of a specific element from a list\n",
        "colors=[\"yellow\",\"red\",\"green\",\"yellow\",\"blue\",\"yellow\"]\n",
        "c=colors.count(\"yellow\")\n",
        "for c in range(c):\n",
        "     colors.remove(\"yellow\")\n",
        "print(colors)"
      ],
      "metadata": {
        "colab": {
          "base_uri": "https://localhost:8080/"
        },
        "id": "-vrV09UymRZI",
        "outputId": "fefc1bc5-8484-4a58-fd30-36fc327e33d1"
      },
      "execution_count": null,
      "outputs": [
        {
          "output_type": "stream",
          "name": "stdout",
          "text": [
            "['red', 'green', 'blue']\n"
          ]
        }
      ]
    },
    {
      "cell_type": "code",
      "source": [
        "#12. Implement a code to find the second largest number in a given list of integers\n",
        "a=[10,40,56,32,93,2,100]\n",
        "b=list(set(a))\n",
        "b.sort()\n",
        "print(\"second largest number:\",b[-2])"
      ],
      "metadata": {
        "colab": {
          "base_uri": "https://localhost:8080/"
        },
        "id": "7-6ZVT80ofDB",
        "outputId": "e1546896-091d-4c2a-f3a5-8fc23096ea60"
      },
      "execution_count": null,
      "outputs": [
        {
          "output_type": "stream",
          "name": "stdout",
          "text": [
            "second largest number: 93\n"
          ]
        }
      ]
    },
    {
      "cell_type": "code",
      "source": [
        "#alternate of ques 12\n",
        "a=[10,40,56,32,93,2,100]\n",
        "d = list()\n",
        "\n",
        "for item in a:\n",
        "    if item not in b:\n",
        "        b.append(item)\n",
        "print(\"second largest number:\",b[-2])"
      ],
      "metadata": {
        "colab": {
          "base_uri": "https://localhost:8080/"
        },
        "id": "EIUOlb8Wqrqr",
        "outputId": "58eb8562-9a0f-4da9-dd93-a037274abb84"
      },
      "execution_count": null,
      "outputs": [
        {
          "output_type": "stream",
          "name": "stdout",
          "text": [
            "second largest number: 93\n"
          ]
        }
      ]
    },
    {
      "cell_type": "code",
      "source": [
        "#13.Create a code to count the occurrences of each element in a list and return a dictionary with elements as keys and their counts as values\n",
        "a=[8,6,8,10,8,20,10,8,8] #for occurunce of single element\n",
        "x=8\n",
        "d=a.count(x)\n",
        "print(d)"
      ],
      "metadata": {
        "colab": {
          "base_uri": "https://localhost:8080/"
        },
        "id": "bbLKxMPBrZz6",
        "outputId": "ed8bda0f-1d23-4156-f65d-3fd3daf2c669"
      },
      "execution_count": null,
      "outputs": [
        {
          "output_type": "stream",
          "name": "stdout",
          "text": [
            "5\n"
          ]
        }
      ]
    },
    {
      "cell_type": "code",
      "source": [
        "a=[8,6,8,10,8,20,10,8,8]\n",
        "[[x,a.count(x)]for x in a]  #for occurence of every element"
      ],
      "metadata": {
        "colab": {
          "base_uri": "https://localhost:8080/"
        },
        "id": "-0cOu2O-y5EE",
        "outputId": "114db1d8-651b-42b2-8975-5a895739d8a9"
      },
      "execution_count": null,
      "outputs": [
        {
          "output_type": "execute_result",
          "data": {
            "text/plain": [
              "[[8, 5], [6, 1], [8, 5], [10, 2], [8, 5], [20, 1], [10, 2], [8, 5], [8, 5]]"
            ]
          },
          "metadata": {},
          "execution_count": 30
        }
      ]
    },
    {
      "cell_type": "code",
      "source": [
        "a=[8,6,8,10,8,20,10,8,8]\n",
        "def counts(a):\n",
        "  d = {}\n",
        "  for i in a:\n",
        "    if i in d:\n",
        "      d [i] += 1\n",
        "    else:\n",
        "      d [i] = 1\n",
        "      print(d)"
      ],
      "metadata": {
        "id": "W912J63Q1n7s"
      },
      "execution_count": null,
      "outputs": []
    },
    {
      "cell_type": "code",
      "source": [
        "#14.Write a code to reverse a list in-place without using any built-in reverse functions\n",
        "l=[\"mango\",\"orange\",7,8,9,7+7j,True]\n",
        "l[::-1]"
      ],
      "metadata": {
        "colab": {
          "base_uri": "https://localhost:8080/"
        },
        "id": "EAs76HrW2fZy",
        "outputId": "8a9b1a94-a370-4c4a-ca9d-41143bc1e89d"
      },
      "execution_count": null,
      "outputs": [
        {
          "output_type": "execute_result",
          "data": {
            "text/plain": [
              "[True, (7+7j), 9, 8, 7, 'orange', 'mango']"
            ]
          },
          "metadata": {},
          "execution_count": 47
        }
      ]
    },
    {
      "cell_type": "code",
      "source": [
        "#15.Implement a code to find and remove duplicates from a list while preserving the original order of elements\n",
        "t = [1, 2, 3, 4, 2, 1, 5, 6, 4]\n",
        "s = []\n",
        "for x in t:\n",
        "    if x not in s:\n",
        "       s.append(x)\n",
        "print(\"Update List:\",s)"
      ],
      "metadata": {
        "colab": {
          "base_uri": "https://localhost:8080/"
        },
        "id": "bfvoFpde3aHF",
        "outputId": "600e7400-a16d-4b31-8714-fce4dbd97803"
      },
      "execution_count": null,
      "outputs": [
        {
          "output_type": "stream",
          "name": "stdout",
          "text": [
            "Update List: [1, 2, 3, 4, 5, 6]\n"
          ]
        }
      ]
    },
    {
      "cell_type": "code",
      "source": [
        "#alternate of ques 15\n",
        "\n",
        "\n",
        "a = [1, 2, 3, 4, 2, 1, 5, 6, 4]\n",
        "d= list(set(a))\n",
        "print(\"Update List:\", d)"
      ],
      "metadata": {
        "colab": {
          "base_uri": "https://localhost:8080/"
        },
        "id": "mA7WOm-Z4DEV",
        "outputId": "45ebfecb-23a9-4a11-ea22-669d19549c7e"
      },
      "execution_count": null,
      "outputs": [
        {
          "output_type": "stream",
          "name": "stdout",
          "text": [
            "Update List: [1, 2, 3, 4, 5, 6]\n"
          ]
        }
      ]
    },
    {
      "cell_type": "code",
      "source": [
        "#16.Create a code to check if a given list is sorted (either in ascending or descending order) or not\n",
        "d=[1,9,5,7,10]\n",
        "f = 0\n",
        "if(d==sorted(d)):\n",
        "  flag = 1\n",
        "if(d):\n",
        "  print(\"yes list is sorted\")\n",
        "else:\n",
        "  print(\"not sorted\")"
      ],
      "metadata": {
        "colab": {
          "base_uri": "https://localhost:8080/"
        },
        "id": "2HYBuenT45bF",
        "outputId": "3cc89bb1-68eb-450a-98f1-7731deb3441a"
      },
      "execution_count": null,
      "outputs": [
        {
          "output_type": "stream",
          "name": "stdout",
          "text": [
            "yes list is sorted\n"
          ]
        }
      ]
    },
    {
      "cell_type": "code",
      "source": [
        "#17.Write a code to merge two sorted lists into a single sorted list\n",
        "a=[1,3,58,34,67]\n",
        "d=[35,76,90,32,4]\n",
        "d= sorted(a+d)\n",
        "print(\"the combined list\",d)"
      ],
      "metadata": {
        "colab": {
          "base_uri": "https://localhost:8080/"
        },
        "id": "VUrarUkF6gaN",
        "outputId": "4c7f8f98-2b5d-4654-e1e7-bd58cfd0390e"
      },
      "execution_count": null,
      "outputs": [
        {
          "output_type": "stream",
          "name": "stdout",
          "text": [
            "the combined list [1, 3, 4, 32, 34, 35, 58, 67, 76, 90]\n"
          ]
        }
      ]
    },
    {
      "cell_type": "code",
      "source": [
        "#18.Implement a code to find the intersection of two given lists\n",
        "s1={23,25,27,29,31}\n",
        "s2={22,24,26,27,28,29}\n",
        "s1&s2"
      ],
      "metadata": {
        "colab": {
          "base_uri": "https://localhost:8080/"
        },
        "id": "Lh5lPTMI7Qsd",
        "outputId": "1911f79c-9d5d-411f-bb3c-1492794aa443"
      },
      "execution_count": null,
      "outputs": [
        {
          "output_type": "execute_result",
          "data": {
            "text/plain": [
              "{27, 29}"
            ]
          },
          "metadata": {},
          "execution_count": 63
        }
      ]
    },
    {
      "cell_type": "code",
      "source": [
        "#19.Create a code to find the union of two lists without duplicates\n",
        "s1={23,25,27,29,31}\n",
        "s2={22,24,26,27,28,29}\n",
        "s1|s2"
      ],
      "metadata": {
        "colab": {
          "base_uri": "https://localhost:8080/"
        },
        "id": "LdSKfz3G8_wz",
        "outputId": "546c00b5-2f78-4f50-e627-82c75bb76c67"
      },
      "execution_count": null,
      "outputs": [
        {
          "output_type": "execute_result",
          "data": {
            "text/plain": [
              "{22, 23, 24, 25, 26, 27, 28, 29, 31}"
            ]
          },
          "metadata": {},
          "execution_count": 64
        }
      ]
    },
    {
      "cell_type": "code",
      "source": [
        "#20.Write a code to shuffle a given list randomly without using any built-in shuffle functions\n",
        "import random\n",
        "st = [1, 4, 5, 6, 3]\n",
        "# using random.shuffle() to shuffle a list\n",
        "random.shuffle(st)\n",
        "print(st)"
      ],
      "metadata": {
        "colab": {
          "base_uri": "https://localhost:8080/"
        },
        "id": "V-DQ9bAGB9C1",
        "outputId": "f475dcae-bf51-4d3d-dd73-ec656ba23de6"
      },
      "execution_count": null,
      "outputs": [
        {
          "output_type": "stream",
          "name": "stdout",
          "text": [
            "[4, 1, 6, 5, 3]\n"
          ]
        }
      ]
    },
    {
      "cell_type": "code",
      "source": [
        "#21.Write a code that takes two tuples as input and returns a new tuple containing elements that are common to both input tuples\n",
        "t1=input(\"enter first tuple:\")\n",
        "t2=input(\"enter second tuple:\")\n",
        "t3=set(t1)\n",
        "t4=set(t2)\n",
        "t5= (t3 & t4)\n",
        "print(t5)"
      ],
      "metadata": {
        "colab": {
          "base_uri": "https://localhost:8080/"
        },
        "id": "wGW7oiIY_GTq",
        "outputId": "7e388470-c427-4fee-bf85-6ca9230c4f40"
      },
      "execution_count": null,
      "outputs": [
        {
          "output_type": "stream",
          "name": "stdout",
          "text": [
            "enter first tuple:2,3,4,mr,r\n",
            "enter second tuple:4,mr\n",
            "{'4', 'm', ',', 'r'}\n"
          ]
        }
      ]
    },
    {
      "cell_type": "code",
      "source": [
        "#22.Create a code that prompts the user to enter two sets of integers separated by commas. Then, print the intersection of these two sets\n",
        "s1 = set(input(\"enter first set:\").split(\",\"))\n",
        "s2 = set(input(\"enter second set:\").split(\",\"))\n",
        "s1&s2"
      ],
      "metadata": {
        "id": "obe0qFcsDJMJ",
        "colab": {
          "base_uri": "https://localhost:8080/"
        },
        "outputId": "a84c6d1f-4222-46af-9283-2c8c9d3cff9e"
      },
      "execution_count": null,
      "outputs": [
        {
          "name": "stdout",
          "output_type": "stream",
          "text": [
            "enter first set:23,mr,4\n",
            "enter second set:mr,45\n"
          ]
        },
        {
          "output_type": "execute_result",
          "data": {
            "text/plain": [
              "{'mr'}"
            ]
          },
          "metadata": {},
          "execution_count": 22
        }
      ]
    },
    {
      "cell_type": "code",
      "source": [
        "#23.Write a code to concatenate two tuples. The function should take two tuples as input and return a new tuple containing elements from both input tuples.\n",
        "t1=input(\"enter first tuple:\")\n",
        "t2=input(\"enter second tuple:\")\n",
        "t3 = t1 + t2\n",
        "print(t3)"
      ],
      "metadata": {
        "colab": {
          "base_uri": "https://localhost:8080/"
        },
        "id": "axw-6R4lDrfr",
        "outputId": "14d391c5-3531-478f-f799-1d3902905191"
      },
      "execution_count": null,
      "outputs": [
        {
          "output_type": "stream",
          "name": "stdout",
          "text": [
            "enter first tuple:1,2,3,4,\n",
            "enter second tuple:5,6,788\n",
            "1,2,3,4,5,6,788\n"
          ]
        }
      ]
    },
    {
      "cell_type": "code",
      "source": [
        "#24.Develop a code that prompts the user to input two sets of strings. Then, print the elements that are present in the first set but not in the second set\n",
        "s1 = set(input(\"enter first set of strings:\").split(\",\"))\n",
        "s2 = set(input(\"enter second set of strings:\").split(\",\"))\n",
        "s1-s2"
      ],
      "metadata": {
        "colab": {
          "base_uri": "https://localhost:8080/"
        },
        "id": "EZLI5rdAE5Ab",
        "outputId": "b87d500e-ccb6-453b-ff78-180c1fc85ace"
      },
      "execution_count": null,
      "outputs": [
        {
          "name": "stdout",
          "output_type": "stream",
          "text": [
            "enter first set of strings:mansi,anjali,alisha\n",
            "enter second set of strings:anjali,alisha\n"
          ]
        },
        {
          "output_type": "execute_result",
          "data": {
            "text/plain": [
              "{'mansi'}"
            ]
          },
          "metadata": {},
          "execution_count": 9
        }
      ]
    },
    {
      "cell_type": "code",
      "source": [
        "#25.Create a code that takes a tuple and two integers as input The function should return a new tuple containing elements from the original tuple within the specified range of indices"
      ],
      "metadata": {
        "id": "2mBAP2R3I6MT"
      },
      "execution_count": null,
      "outputs": []
    },
    {
      "cell_type": "code",
      "source": [
        "#26.Write a code that prompts the user to input two sets of characters. Then, print the union of these two sets\n",
        "a=set(input(\"enter first set:\").split(\",\"))\n",
        "b = set(input(\"enter second set:\").split(\",\"))\n",
        "a|b"
      ],
      "metadata": {
        "id": "NbeF5sIrKHuY",
        "colab": {
          "base_uri": "https://localhost:8080/"
        },
        "outputId": "0002ae50-770e-49c6-b81c-9b876df97d44"
      },
      "execution_count": null,
      "outputs": [
        {
          "name": "stdout",
          "output_type": "stream",
          "text": [
            "enter first set of strings1,2,3\n",
            "enter second set of strings4,5,6\n"
          ]
        },
        {
          "output_type": "execute_result",
          "data": {
            "text/plain": [
              "{'1', '2', '3', '4', '5', '6'}"
            ]
          },
          "metadata": {},
          "execution_count": 3
        }
      ]
    },
    {
      "cell_type": "code",
      "source": [
        "#27. Develop a code that takes a tuple of integers as input. The function should return the maximum and minimum values from the tuple using tuple unpacking\n",
        "t= tuple(input(\"enter the tuple:\").split(\",\"))\n",
        "t1=max(t)\n",
        "t2=min(t)\n",
        "t4= t1,t2\n",
        "print(t4)"
      ],
      "metadata": {
        "colab": {
          "base_uri": "https://localhost:8080/"
        },
        "id": "Hmm2OgDP10AY",
        "outputId": "2b31bc4b-ced4-488e-c3ff-12b15b8ec91f"
      },
      "execution_count": null,
      "outputs": [
        {
          "output_type": "stream",
          "name": "stdout",
          "text": [
            "enter the tuple:1,2,3\n",
            "('3', '1')\n"
          ]
        }
      ]
    },
    {
      "cell_type": "code",
      "source": [
        "#28.Create a code that defines two sets of integers. Then, print the union, intersection, and difference of these two sets\n",
        "s1=s1={21,16,29,2003}\n",
        "s2={16,29,20,6}\n",
        "s1&s2 #intersection"
      ],
      "metadata": {
        "colab": {
          "base_uri": "https://localhost:8080/"
        },
        "id": "80Y_h3cj3Ii5",
        "outputId": "4a8f123a-090c-4f9f-f6f6-83235e3a16ef"
      },
      "execution_count": null,
      "outputs": [
        {
          "output_type": "execute_result",
          "data": {
            "text/plain": [
              "{16, 29}"
            ]
          },
          "metadata": {},
          "execution_count": 23
        }
      ]
    },
    {
      "cell_type": "code",
      "source": [
        "s1|s2  #union"
      ],
      "metadata": {
        "colab": {
          "base_uri": "https://localhost:8080/"
        },
        "id": "AlQ4bZfR3mvU",
        "outputId": "1f0f8079-b9c4-403e-f8a9-bbe02ee3a948"
      },
      "execution_count": null,
      "outputs": [
        {
          "output_type": "execute_result",
          "data": {
            "text/plain": [
              "{6, 16, 20, 21, 29, 2003}"
            ]
          },
          "metadata": {},
          "execution_count": 24
        }
      ]
    },
    {
      "cell_type": "code",
      "source": [
        "s1-s2  #difference"
      ],
      "metadata": {
        "colab": {
          "base_uri": "https://localhost:8080/"
        },
        "id": "DoP_DReA3q4V",
        "outputId": "93f2bd09-608c-454b-ddd3-e129025680e3"
      },
      "execution_count": null,
      "outputs": [
        {
          "output_type": "execute_result",
          "data": {
            "text/plain": [
              "{21, 2003}"
            ]
          },
          "metadata": {},
          "execution_count": 25
        }
      ]
    },
    {
      "cell_type": "code",
      "source": [
        "s1^s2  #symmetric difference"
      ],
      "metadata": {
        "colab": {
          "base_uri": "https://localhost:8080/"
        },
        "id": "pWvMRKoA38KX",
        "outputId": "1fab656a-56ef-402f-8a68-cc45ccc503e0"
      },
      "execution_count": null,
      "outputs": [
        {
          "output_type": "execute_result",
          "data": {
            "text/plain": [
              "{6, 20, 21, 2003}"
            ]
          },
          "metadata": {},
          "execution_count": 26
        }
      ]
    },
    {
      "cell_type": "code",
      "source": [
        "#29.Write a code that takes a tuple and an element as input. The function should return the count of occurrences of the given element in the tuple\n",
        "t= tuple(input(\"enter the tuple:\").split(\",\"))\n",
        "r=input(\"enter the element\")\n",
        "s=t.count(r)\n",
        "print(s)"
      ],
      "metadata": {
        "colab": {
          "base_uri": "https://localhost:8080/"
        },
        "id": "nB4Q-l3D4V-f",
        "outputId": "b77c6459-c1bb-49cb-d69c-bf262dba735f"
      },
      "execution_count": null,
      "outputs": [
        {
          "output_type": "stream",
          "name": "stdout",
          "text": [
            "enter the tuple:mansi,34,34,5\n",
            "enter the element34\n",
            "2\n"
          ]
        }
      ]
    },
    {
      "cell_type": "code",
      "source": [
        "#30.Develop a code that prompts the user to input two sets of strings. Then, print the symmetric difference of these two sets.\n",
        "s1={\"hiking\",\"reading\",\"coding\"}\n",
        "s2={\"coding\",\"photography\",\"travel\"}\n",
        "s1^s2"
      ],
      "metadata": {
        "colab": {
          "base_uri": "https://localhost:8080/"
        },
        "id": "rAPqf2ky5wbu",
        "outputId": "d5977019-2fc4-451f-ec9a-1985bb536005"
      },
      "execution_count": null,
      "outputs": [
        {
          "output_type": "execute_result",
          "data": {
            "text/plain": [
              "{'hiking', 'photography', 'reading', 'travel'}"
            ]
          },
          "metadata": {},
          "execution_count": 27
        }
      ]
    },
    {
      "cell_type": "code",
      "source": [
        "#31.Write a code that takes a list of words as input and returns a dictionary where the keys are unique words and the values are the frequencies of those words in the input list\n",
        "words={\"apple\",\"apple\",\"orange\"}\n",
        "frequency = {}\n",
        "for word in words:\n",
        "        if word in frequency:\n",
        "            frequency[word] += 1\n",
        "        else:\n",
        "            frequency[word] = 1\n",
        "print(frequency)\n"
      ],
      "metadata": {
        "colab": {
          "base_uri": "https://localhost:8080/"
        },
        "id": "ziu8pLgrDplJ",
        "outputId": "a9124f96-d48e-444c-8cc1-60307bd516e7"
      },
      "execution_count": null,
      "outputs": [
        {
          "output_type": "stream",
          "name": "stdout",
          "text": [
            "{'orange': 1, 'apple': 1}\n"
          ]
        }
      ]
    }
  ]
}